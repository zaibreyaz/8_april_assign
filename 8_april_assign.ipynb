{
 "cells": [
  {
   "cell_type": "code",
   "execution_count": null,
   "id": "e32f47da-c9f9-4d27-a273-020c3860f721",
   "metadata": {},
   "outputs": [],
   "source": [
    "\"\"\"Q1. In order to predict house price based on several characteristics, such as location, square footage,\n",
    "number of bedrooms, etc., you are developing an SVM regression model. Which regression metric in this\n",
    "situation would be the best to employ?\n",
    "Dataset link: https://drive.google.com/file/d/1Z9oLpmt6IDRNw7IeNcHYTGeJRYypRSC0/view\"\"\"\n",
    "\n",
    "\n",
    "\"\"\"Ans: In the given situation, the best regression metric to employ would be the mean squared error (MSE).\n",
    "        MSE measures the average of the squared differences between the predicted and actual values. In this scenario, the SVM regression model aims to predict the price of \n",
    "        the house based on several characteristics, and the MSE will give an idea of how well the model is performing in terms of its prediction accuracy. Lower values of \n",
    "        MSE indicate that the model is making more accurate predictions.\n",
    "        Therefore, by using MSE as the regression metric, one can evaluate the performance of the SVM regression model and make necessary adjustments to improve its accuracy.\n",
    "\"\"\""
   ]
  },
  {
   "cell_type": "code",
   "execution_count": null,
   "id": "8fe2f4c1-78be-4ee3-add4-a41ecc41bf5b",
   "metadata": {},
   "outputs": [],
   "source": [
    "\"\"\"Q2. You have built an SVM regression model and are trying to decide between using MSE or R-squared as\n",
    "your evaluation metric. Which metric would be more appropriate if your goal is to predict the actual price\n",
    "of a house as accurately as possible?\n",
    "\n",
    "Ans: If the goal is to predict the actual price of a house as accurately as possible, then Mean Squared Error (MSE) would be a more appropriate evaluation metric than R-squared.\n",
    "     MSE measures the average of the squared differences between the predicted and actual values, which gives a direct measure of how much the predictions deviate from the\n",
    "     actual values. In the case of predicting house prices, the accuracy of the model's predictions is more important than the overall variability explained by the model.\n",
    "     On the other hand, R-squared measures the proportion of variance in the dependent variable that is explained by the independent variables. It is a useful metric for \n",
    "     understanding how well the model fits the data but may not be the best choice for evaluating the model's predictive performance.\n",
    "     Therefore, while R-squared can give insight into the overall fit of the model, MSE is a better metric for evaluating the model's ability to accurately predict house prices.\n",
    "\"\"\""
   ]
  },
  {
   "cell_type": "code",
   "execution_count": null,
   "id": "6a0bfbc4-4289-4458-9c94-52100460febf",
   "metadata": {},
   "outputs": [],
   "source": [
    "\"\"\"Q3. You have a dataset with a significant number of outliers and are trying to select an appropriate\n",
    "regression metric to use with your SVM model. Which metric would be the most appropriate in this\n",
    "scenario?\n",
    "\n",
    "\n",
    "    Ans: If the dataset contains a significant number of outliers, then Mean Absolute Error (MAE) would be the most appropriate regression metric to use with an SVM \n",
    "         regression model.\n",
    "         MAE measures the average of the absolute differences between the predicted and actual values, which is less sensitive to outliers than Mean Squared Error (MSE). \n",
    "         In the presence of outliers, MSE can be significantly inflated by the squared errors of these observations, leading to a higher overall error value. On the other hand, \n",
    "         MAE is more robust to outliers since it only considers the absolute difference between predicted and actual values.\n",
    "         Therefore, if the dataset contains a significant number of outliers, MAE would be a more appropriate metric to use with an SVM regression model since it provides a \n",
    "         more accurate representation of the model's predictive performance in the presence of outliers.\n",
    "\"\"\""
   ]
  },
  {
   "cell_type": "code",
   "execution_count": null,
   "id": "aef387cc-a906-4696-9399-dbad0bb60c20",
   "metadata": {},
   "outputs": [],
   "source": [
    "\"\"\"Q4. You have built an SVM regression model using a polynomial kernel and are trying to select the best\n",
    "metric to evaluate its performance. You have calculated both MSE and RMSE and found that both values\n",
    "are very close. Which metric should you choose to use in this case?\n",
    "\n",
    "    Ans: In situations where both MSE and RMSE values are very close, the choice of metric can be based on personal preference or the specific requirements of the problem at \n",
    "         hand. If interpretability of the error metric is important, RMSE may be the better choice. However, if the main focus is on the numerical value of the error, either \n",
    "         metric can be used interchangeably.\n",
    "\"\"\""
   ]
  },
  {
   "cell_type": "code",
   "execution_count": null,
   "id": "66626101-fa5e-4ce8-9ffe-b16ae26644b2",
   "metadata": {},
   "outputs": [],
   "source": [
    "\"\"\"Q5. You are comparing the performance of different SVM regression models using different kernels (linear,\n",
    "polynomial, and RBF) and are trying to select the best evaluation metric. Which metric would be most\n",
    "appropriate if your goal is to measure how well the model explains the variance in the target variable?\n",
    "\n",
    "    Ans: When comparing the performance of SVM regression models with different kernels, R-squared can be used to determine which kernel provides the best fit to the data by \n",
    "         comparing the R-squared values across models. The kernel with the highest R-squared value indicates the best fit and explains the most variance in the target variable.\n",
    "\"\"\""
   ]
  }
 ],
 "metadata": {
  "kernelspec": {
   "display_name": "Python 3 (ipykernel)",
   "language": "python",
   "name": "python3"
  },
  "language_info": {
   "codemirror_mode": {
    "name": "ipython",
    "version": 3
   },
   "file_extension": ".py",
   "mimetype": "text/x-python",
   "name": "python",
   "nbconvert_exporter": "python",
   "pygments_lexer": "ipython3",
   "version": "3.10.8"
  }
 },
 "nbformat": 4,
 "nbformat_minor": 5
}
